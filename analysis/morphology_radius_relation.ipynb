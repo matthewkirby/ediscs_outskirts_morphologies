{
 "cells": [
  {
   "cell_type": "code",
   "execution_count": null,
   "metadata": {},
   "outputs": [],
   "source": [
    "%matplotlib inline\n",
    "from astropy.table import Table\n",
    "import matplotlib.pyplot as plt\n",
    "import matplotlib as mpl\n",
    "import numpy as np\n",
    "\n",
    "\n",
    "mpl.rc('text', usetex=True)"
   ]
  },
  {
   "cell_type": "code",
   "execution_count": null,
   "metadata": {},
   "outputs": [],
   "source": [
    "def poisson_upper(n, S):\n",
    "    return n + S*np.sqrt(n + 0.75) + (S**2 + 3.)/4.\n",
    "def poisson_lower(n, S):\n",
    "    return n - S*np.sqrt(n - 0.25) + (S**2 - 1.)/4\n",
    "\n",
    "def calc_1sigma_poisson_bounds(n, ntot):\n",
    "    upper = poisson_upper(n, 1.0)\n",
    "    lower = poisson_lower(n, 1.0)\n",
    "    return [(n-lower)/ntot, (upper-n)/ntot]"
   ]
  },
  {
   "cell_type": "markdown",
   "metadata": {},
   "source": [
    "# Load the classified catalog"
   ]
  },
  {
   "cell_type": "code",
   "execution_count": null,
   "metadata": {},
   "outputs": [],
   "source": [
    "infall = Table().read('../catalogs/classified_surfacedensity.csv')\n",
    "infall = infall[np.where((infall['morph'] != 'C') &\n",
    "                         (infall['morph'] != 'U'))]\n",
    "infall.sort('d_cl_mpc')"
   ]
  },
  {
   "cell_type": "code",
   "execution_count": null,
   "metadata": {},
   "outputs": [],
   "source": [
    "# Sort into bins\n",
    "infall['bin'] = -1*np.ones(len(infall), dtype='int8')\n",
    "bins = np.arange(0, 5.001, 0.5)\n",
    "nbins = len(bins)-1\n",
    "\n",
    "for i in range(len(bins)-1):\n",
    "    for row in infall:\n",
    "        if bins[i] < row['d_cl_mpc'] < bins[i+1]:\n",
    "            row['bin'] = i"
   ]
  },
  {
   "cell_type": "markdown",
   "metadata": {},
   "source": [
    "# Plot the fractions in each bin"
   ]
  },
  {
   "cell_type": "code",
   "execution_count": null,
   "metadata": {},
   "outputs": [],
   "source": [
    "def compute_binned_fractions(table, morph, nbins):\n",
    "    binids = range(nbins)\n",
    "    ntot, nmorph = np.ones(len(binids))*-1, np.ones(len(binids))*-1\n",
    "    rhomin, rhomax = np.ones(len(binids))*-1, np.ones(len(binids))*-1\n",
    "    rhomean = np.ones(len(binids))*-1\n",
    "    for i in binids:\n",
    "        onebin = table[np.where(table['bin'] == i)]\n",
    "        ntot[i] = float(len(onebin))\n",
    "        nmorph[i] = float(len(onebin[np.where(onebin['morph'] == morph)]))\n",
    "        rhomin[i] = min(onebin['d_cl_mpc'])\n",
    "        rhomax[i] = max(onebin['d_cl_mpc'])\n",
    "        rhomean[i] = np.average(onebin['d_cl_mpc'])\n",
    "    return nmorph, {'nmorph': nmorph, 'ntot': ntot, 'rhomin': rhomin, 'rhomax': rhomax, 'rhomean': rhomean}"
   ]
  },
  {
   "cell_type": "markdown",
   "metadata": {},
   "source": [
    "#### Subplot details"
   ]
  },
  {
   "cell_type": "code",
   "execution_count": null,
   "metadata": {},
   "outputs": [],
   "source": [
    "plotdeetz = [\n",
    "    {\n",
    "        'morph': [\"E\"], \n",
    "        'ylabel': r'$f_{\\rm E}$',\n",
    "        'oldcol': 'fE'\n",
    "    },\n",
    "    {\n",
    "        'morph': [\"S0\"], \n",
    "        'ylabel': r'$f_{\\rm S0}$',\n",
    "        'oldcol': 'fS0'\n",
    "    },\n",
    "    {\n",
    "        'morph': [\"E\", \"S0\"], \n",
    "        'ylabel': r'$f_{\\rm E+S0}$',\n",
    "        'oldcol': 'fearly'\n",
    "    },\n",
    "    {\n",
    "        'morph': [\"Irr\", \"Sa\", \"Sb\", \"Sc\", \"Sd\", \"Sm\"], \n",
    "        'ylabel': r'$f_{\\rm Sp+Irr}$',\n",
    "        'oldcol': 'flate'\n",
    "    }\n",
    "]"
   ]
  },
  {
   "cell_type": "markdown",
   "metadata": {},
   "source": [
    "#### Make the plot"
   ]
  },
  {
   "cell_type": "code",
   "execution_count": null,
   "metadata": {
    "scrolled": false
   },
   "outputs": [],
   "source": [
    "ebarkwargs = {'ms':2, 'elinewidth':0.5, 'capthick':0.5, 'capsize':2}\n",
    "\n",
    "fig = plt.figure(figsize=(10, 5), dpi=250) \n",
    "gs = fig.add_gridspec(5,3) \n",
    "\n",
    "axs = [fig.add_subplot(gs[0,0]), fig.add_subplot(gs[0,1]), fig.add_subplot(gs[1:3,0]),\n",
    "       fig.add_subplot(gs[1:3,1]), fig.add_subplot(gs[3:5,0]), fig.add_subplot(gs[3:5,1])]\n",
    "\n",
    "xlabel = r'$r_{\\rm cl}/R_{200}$'\n",
    "yticks = (0.0, .2, .4, .6, .8, 1.)\n",
    "xrange = (0, 5)\n",
    "\n",
    "for ax in axs[:2]:\n",
    "    ax.hist(infall['d_cl_mpc'], bins=bins)\n",
    "\n",
    "for ax, opts in zip(axs[2:], plotdeetz):\n",
    "    # Compute the fraction in infall region\n",
    "    nmorphs = np.zeros(nbins)\n",
    "    for morph in opts['morph']:\n",
    "        nmorph_single, res = compute_binned_fractions(infall, morph, nbins)\n",
    "        nmorphs+=nmorph_single\n",
    "    \n",
    "    # Plot the infall clusters by morphology\n",
    "    ax.errorbar(res['rhomean'], nmorphs/res['ntot'], \n",
    "                xerr=[res['rhomean'] - res['rhomin'], res['rhomax'] - res['rhomean']],\n",
    "                yerr=calc_1sigma_poisson_bounds(nmorphs, res['ntot']),\n",
    "                fmt='ok', **ebarkwargs,)    \n",
    "    \n",
    "    # Format the axes\n",
    "    ax.set_xlim(xrange)\n",
    "    ax.set_ylim((-0.1, 1.1))\n",
    "    ax.set_yticks(yticks)\n",
    "    ax.set_ylabel(opts['ylabel'])\n",
    "    ax.tick_params(which='both', direction='in', top=True, right=True, left=True, bottom=True)\n",
    "\n",
    "# General axis formatting\n",
    "\n",
    "\n",
    "axs[0].set_xticklabels(());\n",
    "\n",
    "axs[1].set_xticklabels(());\n",
    "axs[1].yaxis.tick_right()\n",
    "axs[1].yaxis.set_label_position('right')\n",
    "\n",
    "axs[2].set_xticklabels(());\n",
    "\n",
    "axs[3].set_xticklabels(());\n",
    "axs[3].yaxis.tick_right()\n",
    "axs[3].yaxis.set_label_position('right')\n",
    "\n",
    "axs[4].set_xlabel(xlabel)\n",
    "\n",
    "axs[5].set_xlabel(xlabel)\n",
    "axs[5].yaxis.tick_right()\n",
    "axs[5].yaxis.set_label_position('right')\n",
    "\n",
    "\n",
    "fig.subplots_adjust(wspace=.001, hspace=.001)\n",
    "plt.savefig('plots/morphology-radius-relation.pdf', bbox_inches='tight')"
   ]
  },
  {
   "cell_type": "code",
   "execution_count": null,
   "metadata": {},
   "outputs": [],
   "source": []
  },
  {
   "cell_type": "code",
   "execution_count": null,
   "metadata": {},
   "outputs": [],
   "source": []
  },
  {
   "cell_type": "code",
   "execution_count": null,
   "metadata": {},
   "outputs": [],
   "source": []
  },
  {
   "cell_type": "code",
   "execution_count": null,
   "metadata": {},
   "outputs": [],
   "source": []
  },
  {
   "cell_type": "code",
   "execution_count": null,
   "metadata": {},
   "outputs": [],
   "source": []
  }
 ],
 "metadata": {
  "kernelspec": {
   "display_name": "Python 3",
   "language": "python",
   "name": "python3"
  },
  "language_info": {
   "codemirror_mode": {
    "name": "ipython",
    "version": 3
   },
   "file_extension": ".py",
   "mimetype": "text/x-python",
   "name": "python",
   "nbconvert_exporter": "python",
   "pygments_lexer": "ipython3",
   "version": "3.7.3"
  }
 },
 "nbformat": 4,
 "nbformat_minor": 2
}
