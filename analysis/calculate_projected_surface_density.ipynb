{
 "cells": [
  {
   "cell_type": "code",
   "execution_count": null,
   "metadata": {},
   "outputs": [],
   "source": [
    "%matplotlib notebook\n",
    "import numpy as np\n",
    "from astropy.table import Table\n",
    "from astropy import units as u\n",
    "from astropy.coordinates import SkyCoord\n",
    "from astropy.cosmology import FlatLambdaCDM\n",
    "import scipy.stats\n",
    "from scipy.interpolate import interp1d\n",
    "import matplotlib.pyplot as plt\n",
    "plt.ion()\n",
    "\n",
    "knn = 10\n",
    "cosmo = FlatLambdaCDM(H0=70, Om0=0.3)\n",
    "astorad = np.pi/(180.*60.*60)\n",
    "Rauto_cut = 22.9\n",
    "dz_membership = 0.02"
   ]
  },
  {
   "cell_type": "markdown",
   "metadata": {},
   "source": [
    "# Load the classifications and photometry"
   ]
  },
  {
   "cell_type": "code",
   "execution_count": null,
   "metadata": {},
   "outputs": [],
   "source": [
    "classtable = Table().read('../catalogs/classified_objects.csv')\n",
    "for i in range(knn):\n",
    "    classtable[str(i+1)+'NN_arcsec'] = np.zeros(len(classtable))\n",
    "\n",
    "phottable = Table().read('../catalogs/slits_phot_zs_cutonslitdist_rcl.csv')\n",
    "phottable = phottable[np.where(phottable['Rauto'] < Rauto_cut)]\n",
    "phottable = phottable[np.where(phottable['Q'] >= 3)]"
   ]
  },
  {
   "cell_type": "markdown",
   "metadata": {},
   "source": [
    "# Find the k-NN (arcsec) and calculate the harmonic mean"
   ]
  },
  {
   "cell_type": "code",
   "execution_count": null,
   "metadata": {},
   "outputs": [],
   "source": [
    "for row in classtable:\n",
    "    # Find nearby objects in z\n",
    "    subtable = phottable[np.where(abs(phottable['zLDP'] - row['zLDP']) < dz_membership)]\n",
    "    subcoords = SkyCoord(ra=subtable['ra']*u.degree, dec=subtable['dec']*u.degree)\n",
    "\n",
    "    obj = SkyCoord(ra=row['ra']*u.degree, dec=row['dec']*u.degree)\n",
    "    seps = subcoords.separation(obj).arcsecond\n",
    "    kseps = sorted(seps)[1:knn+1]\n",
    "    for i in range(knn):\n",
    "        row[str(i+1)+'NN_arcsec'] = kseps[i]"
   ]
  },
  {
   "cell_type": "markdown",
   "metadata": {},
   "source": [
    "# Calculate density in galaxies/Mpc$^2$"
   ]
  },
  {
   "cell_type": "code",
   "execution_count": null,
   "metadata": {},
   "outputs": [],
   "source": [
    "classtable['harm_mean'] = np.zeros(len(classtable))\n",
    "classtable['surface_density'] = np.zeros(len(classtable))\n",
    "\n",
    "for row in classtable:\n",
    "    DA = cosmo.angular_diameter_distance(row['zLDP'])\n",
    "    kseps = np.array([row[str(i+1)+'NN_arcsec'] for i in range(knn)]) * astorad * DA.value\n",
    "    row['harm_mean'] = scipy.stats.hmean(kseps)\n",
    "    \n",
    "    # Account for the object itself!\n",
    "    n_in_area = len(np.where(kseps<row['harm_mean'])[0]) + 1\n",
    "    row['surface_density'] = n_in_area/(np.pi*row['harm_mean']*row['harm_mean'])"
   ]
  },
  {
   "cell_type": "markdown",
   "metadata": {},
   "source": [
    "# Make the completeness correction\n",
    "At the moment, this is to just divide by Q2 completeness at the relevent radius. Q2 since we are calculating the NN with Q=4,3,2 objects"
   ]
  },
  {
   "cell_type": "code",
   "execution_count": null,
   "metadata": {},
   "outputs": [],
   "source": [
    "completeness = Table().read('../catalogs/radial_completeness.dat', format='ascii')\n",
    "completeness['theta_cl_min'] = completeness['theta_cl'] - 0.25\n",
    "completeness['theta_cl_max'] = completeness['theta_cl'] + 0.25"
   ]
  },
  {
   "cell_type": "code",
   "execution_count": null,
   "metadata": {},
   "outputs": [],
   "source": [
    "classtable['surface_density_compcorred'] = np.zeros(len(classtable))\n",
    "for row in classtable:\n",
    "    rcl = (row['theta_cl_radian']*u.radian).to(u.arcminute).value\n",
    "    for crow in completeness:\n",
    "        if crow['theta_cl_min'] < rcl < crow['theta_cl_max']:\n",
    "            row['surface_density_compcorred'] = row['surface_density']/crow['q3']"
   ]
  },
  {
   "cell_type": "markdown",
   "metadata": {},
   "source": [
    "# Save the updated table"
   ]
  },
  {
   "cell_type": "code",
   "execution_count": null,
   "metadata": {},
   "outputs": [],
   "source": [
    "classtable.write('../catalogs/classified_surfacedensity.csv', format='csv', overwrite=True)"
   ]
  },
  {
   "cell_type": "code",
   "execution_count": null,
   "metadata": {},
   "outputs": [],
   "source": []
  }
 ],
 "metadata": {
  "kernelspec": {
   "display_name": "Python 3",
   "language": "python",
   "name": "python3"
  },
  "language_info": {
   "codemirror_mode": {
    "name": "ipython",
    "version": 3
   },
   "file_extension": ".py",
   "mimetype": "text/x-python",
   "name": "python",
   "nbconvert_exporter": "python",
   "pygments_lexer": "ipython3",
   "version": "3.6.4"
  }
 },
 "nbformat": 4,
 "nbformat_minor": 2
}
