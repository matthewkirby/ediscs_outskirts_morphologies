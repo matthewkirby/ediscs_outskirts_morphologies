{
 "cells": [
  {
   "cell_type": "code",
   "execution_count": null,
   "metadata": {},
   "outputs": [],
   "source": [
    "%matplotlib notebook\n",
    "import numpy as np\n",
    "from astropy.table import Table, vstack\n",
    "from astropy import units as u\n",
    "from astropy.coordinates import SkyCoord\n",
    "from astropy.cosmology import FlatLambdaCDM\n",
    "import scipy.stats\n",
    "from scipy.interpolate import interp1d\n",
    "import matplotlib.pyplot as plt\n",
    "plt.ion()\n",
    "\n",
    "knn = 10\n",
    "cosmo = FlatLambdaCDM(H0=70, Om0=0.3)\n",
    "astorad = np.pi/(180.*60.*60)\n",
    "Rauto_cut = 22.9\n",
    "dz_membership = 0.02\n",
    "Qcut = 3"
   ]
  },
  {
   "cell_type": "markdown",
   "metadata": {},
   "source": [
    "# Load the classifications and photometry"
   ]
  },
  {
   "cell_type": "code",
   "execution_count": null,
   "metadata": {},
   "outputs": [],
   "source": [
    "classtable = Table().read('../catalogs/classified_objects.csv')\n",
    "for i in range(knn):\n",
    "    classtable[str(i+1)+'NN_arcsec'] = np.zeros(len(classtable))"
   ]
  },
  {
   "cell_type": "code",
   "execution_count": null,
   "metadata": {},
   "outputs": [],
   "source": [
    "phottable = Table().read('../catalogs/slits_phot_zs_cutonslitdist_rcl.csv')\n",
    "phottable = phottable[np.where(phottable['Rauto'] < Rauto_cut)]\n",
    "phottable = phottable[np.where(phottable['Q'] >= Qcut)]\n",
    "\n",
    "photuncut = Table().read('../catalogs/slits_phot_zs_cutonslitdist_rcl.csv')"
   ]
  },
  {
   "cell_type": "markdown",
   "metadata": {},
   "source": [
    "# Find the k-NN (arcsec) and calculate the harmonic mean"
   ]
  },
  {
   "cell_type": "code",
   "execution_count": null,
   "metadata": {
    "scrolled": true
   },
   "outputs": [],
   "source": [
    "for row in classtable:\n",
    "    # Find nearby objects in z\n",
    "    subtable = phottable[np.where(abs(phottable['zLDP'] - row['zLDP']) < dz_membership)]\n",
    "    subcoords = SkyCoord(ra=subtable['ra']*u.degree, dec=subtable['dec']*u.degree)\n",
    "    \n",
    "\n",
    "    obj = SkyCoord(ra=row['ra']*u.degree, dec=row['dec']*u.degree)\n",
    "    seps = subcoords.separation(obj).arcsecond\n",
    "    kseps = sorted(seps)[1:knn+1]\n",
    "    for i in range(knn):\n",
    "        row[str(i+1)+'NN_arcsec'] = kseps[i]\n",
    "    "
   ]
  },
  {
   "cell_type": "markdown",
   "metadata": {},
   "source": [
    "# Calculate density in galaxies/Mpc$^2$"
   ]
  },
  {
   "cell_type": "code",
   "execution_count": null,
   "metadata": {},
   "outputs": [],
   "source": [
    "classtable['harm_mean'] = np.zeros(len(classtable))\n",
    "classtable['surface_density'] = np.zeros(len(classtable))\n",
    "\n",
    "for row in classtable:\n",
    "    DA = cosmo.angular_diameter_distance(row['zLDP'])\n",
    "    kseps = np.array([row[str(i+1)+'NN_arcsec'] for i in range(knn)]) * astorad * DA.to('Mpc').value\n",
    "    row['harm_mean'] = scipy.stats.hmean(kseps)\n",
    "    \n",
    "    # Account for the object itself!\n",
    "    n_in_area = len(np.where(kseps<row['harm_mean'])[0]) + 1\n",
    "    row['surface_density'] = n_in_area/(np.pi*row['harm_mean']*row['harm_mean'])"
   ]
  },
  {
   "cell_type": "markdown",
   "metadata": {},
   "source": [
    "# Make the completeness correction\n",
    "At the moment, this is to just divide by the Q completeness at the relevent radius."
   ]
  },
  {
   "cell_type": "code",
   "execution_count": null,
   "metadata": {},
   "outputs": [],
   "source": [
    "completeness = Table().read('../catalogs/radial_completeness.dat', format='ascii')\n",
    "completeness['theta_cl_min'] = completeness['theta_cl'] - 0.25\n",
    "completeness['theta_cl_max'] = completeness['theta_cl'] + 0.25"
   ]
  },
  {
   "cell_type": "code",
   "execution_count": null,
   "metadata": {},
   "outputs": [],
   "source": [
    "classtable['surface_density_compcorred'] = np.zeros(len(classtable))\n",
    "for row in classtable:\n",
    "    rcl = (row['theta_cl_radian']*u.radian).to(u.arcminute).value\n",
    "    for crow in completeness:\n",
    "        if crow['theta_cl_min'] < rcl < crow['theta_cl_max']:\n",
    "            row['surface_density_compcorred'] = row['surface_density']/crow['q'+str(Qcut)]\n",
    "            break"
   ]
  },
  {
   "cell_type": "markdown",
   "metadata": {},
   "source": [
    "# Save the updated table"
   ]
  },
  {
   "cell_type": "code",
   "execution_count": null,
   "metadata": {},
   "outputs": [],
   "source": [
    "#classtable.write('../catalogs/classified_surfacedensity.csv', format='csv', overwrite=True)"
   ]
  },
  {
   "cell_type": "markdown",
   "metadata": {},
   "source": [
    "# Repeat for the cluster cores"
   ]
  },
  {
   "cell_type": "code",
   "execution_count": null,
   "metadata": {},
   "outputs": [],
   "source": [
    "def make_subcat(fullcat, intflag, flag):\n",
    "    subcat = fullcat[np.where(fullcat['morph_int'].astype(int) == intflag)]\n",
    "    subcat['morph'] = flag\n",
    "    return subcat"
   ]
  },
  {
   "cell_type": "code",
   "execution_count": null,
   "metadata": {
    "scrolled": true
   },
   "outputs": [],
   "source": [
    "# Load cluster core classifications\n",
    "desai = Table(np.loadtxt('../catalogs/desai07_classifiedGalaxies.cat', skiprows=8, usecols=[2,3,5]),\n",
    "             names=['ra', 'dec', 'morph_int'])\n",
    "desai['morph'] = 'xxx'\n",
    "\n",
    "# Cut to only morphs I care about\n",
    "allowed_morphs = [[-5, 'E'], [-2, 'S0'], [1, 'Sa'], [2, 'Sa'], [3, 'Sb'], [4, 'Sb'],\n",
    "                  [5, 'Sc'], [6, 'Sc'], [7, 'Sd'], [8, 'Sd'], [9, 'Sm'], [10, 'Sm'], [11, 'Irr']]   \n",
    "desaiclass = vstack([make_subcat(desai, morph[0], morph[1]) for morph in allowed_morphs])\n",
    "\n",
    "# Match to the ediscs catalogs\n",
    "photcoords = SkyCoord(ra=photuncut['ra']*u.degree, dec=photuncut['dec']*u.degree)\n",
    "desaicoords = SkyCoord(ra=desaiclass['ra']*u.degree, dec=desaiclass['dec']*u.degree)\n",
    "idx, d2d, d3d = desaicoords.match_to_catalog_sky(photcoords)\n",
    "d2d = d2d.to(u.arcsec).value\n",
    "\n",
    "# Copy over zLDP, Q, and 2d distance\n",
    "desaiclass['sep_arcsec'] = d2d\n",
    "desaiclass['zLDP'] = photuncut[idx]['zLDP']\n",
    "desaiclass['Q'] = photuncut[idx]['Q']\n",
    "desaiclass['Rauto'] = photuncut[idx]['Rauto']\n",
    "desaiclass['theta_cl_radian'] = photuncut[idx]['theta_cl_radian']\n",
    "\n",
    "# Apply cuts: 2dsep < 5as, Qcut, Rauto_cut\n",
    "desaiclass = desaiclass[desaiclass['Q'] >= Qcut]\n",
    "desaiclass = desaiclass[desaiclass['Rauto'] < Rauto_cut]\n",
    "desaiclass = desaiclass[desaiclass['sep_arcsec'] < 5.0]\n",
    "\n",
    "# Add some rows to the table\n",
    "for i in range(knn):\n",
    "    desaiclass[str(i+1)+'NN_arcsec'] = np.zeros(len(desaiclass))\n",
    "desaiclass['harm_mean'] = np.zeros(len(desaiclass))\n",
    "desaiclass['surface_density'] = np.zeros(len(desaiclass))\n",
    "desaiclass['surface_density_compcorred'] = np.zeros(len(desaiclass))\n",
    "\n",
    "# Find the k NN\n",
    "for row in desaiclass:\n",
    "    # Find nearby objects in z\n",
    "    subtable = phottable[np.where(abs(phottable['zLDP'] - row['zLDP']) < dz_membership)]\n",
    "    subcoords = SkyCoord(ra=subtable['ra']*u.degree, dec=subtable['dec']*u.degree)\n",
    "    \n",
    "    obj = SkyCoord(ra=row['ra']*u.degree, dec=row['dec']*u.degree)\n",
    "    seps = subcoords.separation(obj).arcsecond\n",
    "    kseps = sorted(seps)[1:knn+1]\n",
    "    for i in range(knn):\n",
    "        row[str(i+1)+'NN_arcsec'] = kseps[i]\n",
    "\n",
    "# Calculate the surface density within the harmonic mean of the k NN\n",
    "for row in desaiclass:\n",
    "    DA = cosmo.angular_diameter_distance(row['zLDP'])\n",
    "    kseps = np.array([row[str(i+1)+'NN_arcsec'] for i in range(knn)]) * astorad * DA.to('Mpc').value\n",
    "    row['harm_mean'] = scipy.stats.hmean(kseps)\n",
    "    \n",
    "    # Account for the object itself!\n",
    "    n_in_area = len(np.where(kseps<row['harm_mean'])[0]) + 1\n",
    "    row['surface_density'] = n_in_area/(np.pi*row['harm_mean']*row['harm_mean'])\n",
    "\n",
    "# Make the completeness correction\n",
    "for row in desaiclass:\n",
    "    rcl = (row['theta_cl_radian']*u.radian).to(u.arcminute).value\n",
    "    for crow in completeness:\n",
    "        if crow['theta_cl_min'] < rcl < crow['theta_cl_max']:\n",
    "            row['surface_density_compcorred'] = row['surface_density']/crow['q'+str(Qcut)]\n",
    "            break\n",
    "\n",
    "# Save the table\n",
    "desaiclass.write('../catalogs/classified_surfacedensity_desai.csv', format='csv', overwrite=True)"
   ]
  },
  {
   "cell_type": "code",
   "execution_count": null,
   "metadata": {},
   "outputs": [],
   "source": []
  }
 ],
 "metadata": {
  "kernelspec": {
   "display_name": "Python 3",
   "language": "python",
   "name": "python3"
  },
  "language_info": {
   "codemirror_mode": {
    "name": "ipython",
    "version": 3
   },
   "file_extension": ".py",
   "mimetype": "text/x-python",
   "name": "python",
   "nbconvert_exporter": "python",
   "pygments_lexer": "ipython3",
   "version": "3.7.3"
  }
 },
 "nbformat": 4,
 "nbformat_minor": 2
}
