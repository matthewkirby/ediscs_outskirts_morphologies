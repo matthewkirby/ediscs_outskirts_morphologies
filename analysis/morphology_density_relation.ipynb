{
 "cells": [
  {
   "cell_type": "code",
   "execution_count": null,
   "metadata": {},
   "outputs": [],
   "source": [
    "%matplotlib inline\n",
    "from astropy.table import Table\n",
    "import matplotlib.pyplot as plt\n",
    "import matplotlib as mpl\n",
    "import numpy as np\n",
    "\n",
    "mpl.rc('text', usetex=True)"
   ]
  },
  {
   "cell_type": "code",
   "execution_count": null,
   "metadata": {},
   "outputs": [],
   "source": [
    "def poisson_upper(n, S):\n",
    "    return n + S*np.sqrt(n + 0.75) + (S**2 + 3.)/4.\n",
    "def poisson_lower(n, S):\n",
    "    return n - S*np.sqrt(n - 0.25) + (S**2 - 1.)/4\n",
    "\n",
    "def calc_1sigma_poisson_bounds(n, ntot):\n",
    "    upper = poisson_upper(n, 1.0)\n",
    "    lower = poisson_lower(n, 1.0)\n",
    "    return [(n-lower)/ntot, (upper-n)/ntot]"
   ]
  },
  {
   "cell_type": "markdown",
   "metadata": {},
   "source": [
    "# Load the classified catalog"
   ]
  },
  {
   "cell_type": "code",
   "execution_count": null,
   "metadata": {},
   "outputs": [],
   "source": [
    "infall = Table().read('../catalogs/classified_surfacedensity.csv')\n",
    "infall = infall[np.where((infall['morph'] != 'C') &\n",
    "                         (infall['morph'] != 'U'))]\n",
    "infall.sort('surface_density_compcorred')"
   ]
  },
  {
   "cell_type": "markdown",
   "metadata": {},
   "source": [
    "# Load the ediscs cluster core data"
   ]
  },
  {
   "cell_type": "code",
   "execution_count": null,
   "metadata": {},
   "outputs": [],
   "source": [
    "cores = Table().read('../catalogs/classified_surfacedensity_desai.csv')\n",
    "cores.sort('surface_density_compcorred')"
   ]
  },
  {
   "cell_type": "markdown",
   "metadata": {},
   "source": [
    "# Load the High-z results from Postman+2005"
   ]
  },
  {
   "cell_type": "code",
   "execution_count": null,
   "metadata": {},
   "outputs": [],
   "source": [
    "def add_LL(table, col):\n",
    "    sigma = table[col+'_UL'] - table[col]\n",
    "    table[col+'_LL'] = table[col] - sigma\n",
    "    table[col+'_LL'][np.where(table[col+'_LL'] < 0.0)] = 0.0\n",
    "    table[col+'_UL'][np.where(table[col+'_UL'] > 1.0)] = 1.0\n",
    "    table[col+'_extent'] = table[col+'_UL'] - table[col+'_LL']\n",
    "    return table"
   ]
  },
  {
   "cell_type": "code",
   "execution_count": null,
   "metadata": {},
   "outputs": [],
   "source": [
    "postman = Table(np.loadtxt('./external-data/postman05_fractions.dat', skiprows=1),\n",
    "                names=('rho', 'fE', 'fE_UL', 'fS0', 'fS0_UL', 'fearly', 'fearly_UL', 'flate', 'flate_UL'))\n",
    "\n",
    "# Add lower limits to the table\n",
    "for col in ['fE', 'fS0', 'fearly', 'flate']:\n",
    "    postman = add_LL(postman, col)"
   ]
  },
  {
   "cell_type": "markdown",
   "metadata": {},
   "source": [
    "# Load the low-z results from Dresler 1980"
   ]
  },
  {
   "cell_type": "code",
   "execution_count": null,
   "metadata": {},
   "outputs": [],
   "source": [
    "def add_dressler_LL(table, col):\n",
    "    sigma = table[col+'_e']\n",
    "    table[col+'_LL'] = table[col] - sigma\n",
    "    table[col+'_LL'][np.where(table[col+'_LL'] < 0.0)] = 0.0\n",
    "    table[col+'_extent'] = 2.0*table[col+'_e']\n",
    "\n",
    "    for row in table:\n",
    "        if row[col+'_LL'] + row[col+'_extent'] > 1.0:\n",
    "            row[col+'_extent'] = 1.0 - row[col+'_LL']\n",
    "    \n",
    "    return table"
   ]
  },
  {
   "cell_type": "code",
   "execution_count": null,
   "metadata": {},
   "outputs": [],
   "source": [
    "cosmologycorrection = (223.91**2)/(163.23**2)\n",
    "\n",
    "dressler = Table(np.loadtxt('./external-data/dressler80_fullResults_withErrors.dat', skiprows=1),\n",
    "                 names=('logrho', 'fE', 'fE_e', 'fS0', 'fS0_e', 'flate', 'flate_e'))\n",
    "dressler['fearly'] = dressler['fE'] + dressler['fS0']\n",
    "dressler['fearly_e'] = np.sqrt(dressler['fE_e']**2 + dressler['fS0_e']**2)\n",
    "dressler['rho'] = 10.**dressler['logrho'] * cosmologycorrection\n",
    "\n",
    "for col in ['fE', 'fS0', 'fearly', 'flate']:\n",
    "    dressler = add_dressler_LL(dressler, col)"
   ]
  },
  {
   "cell_type": "markdown",
   "metadata": {},
   "source": [
    "# Make even bins in surface density for the infall data"
   ]
  },
  {
   "cell_type": "code",
   "execution_count": null,
   "metadata": {},
   "outputs": [],
   "source": [
    "n_bins_infall = 5\n",
    "\n",
    "n_per_bin = int(len(infall)/n_bins_infall)\n",
    "infall['rhobin'] = np.ones(len(infall), dtype='int8')*-1\n",
    "counter, setval = 0, 0\n",
    "\n",
    "for row in infall:\n",
    "    row['rhobin'] = setval\n",
    "    counter += 1\n",
    "    if int(counter) == int(n_per_bin):\n",
    "        counter = 0\n",
    "        setval += 1\n",
    "\n",
    "# We have 1 straggler, put it in the last bin\n",
    "infall[-1]['rhobin'] = 4"
   ]
  },
  {
   "cell_type": "markdown",
   "metadata": {},
   "source": [
    "# Make even bins in surface density for the core data"
   ]
  },
  {
   "cell_type": "code",
   "execution_count": null,
   "metadata": {},
   "outputs": [],
   "source": [
    "n_bins_core = 10\n",
    "\n",
    "n_per_bin = int(len(cores)/n_bins_core)\n",
    "cores['rhobin'] = -1*np.ones(len(cores), dtype='int8')\n",
    "counter, setval = 0, 0\n",
    "\n",
    "for row in cores:\n",
    "    row['rhobin'] = setval\n",
    "    counter += 1\n",
    "    if int(counter) == int(n_per_bin):\n",
    "        counter = 0\n",
    "        setval += 1"
   ]
  },
  {
   "cell_type": "markdown",
   "metadata": {},
   "source": [
    "# Plot the fractions in each bin"
   ]
  },
  {
   "cell_type": "code",
   "execution_count": null,
   "metadata": {},
   "outputs": [],
   "source": [
    "def compute_binned_fractions(table, morph):\n",
    "    binids = list(set(table['rhobin']))\n",
    "    ntot, nmorph = np.ones(len(binids))*-1, np.ones(len(binids))*-1\n",
    "    rhomin, rhomax = np.ones(len(binids))*-1, np.ones(len(binids))*-1\n",
    "    rhomean = np.ones(len(binids))*-1\n",
    "    for i in binids:\n",
    "        onebin = table[np.where(table['rhobin'] == i)]\n",
    "        ntot[i] = float(len(onebin))\n",
    "        nmorph[i] = float(len(onebin[np.where(onebin['morph'] == morph)]))\n",
    "        rhomin[i] = min(onebin['surface_density_compcorred'])\n",
    "        rhomax[i] = max(onebin['surface_density_compcorred'])\n",
    "        rhomean[i] = np.average(onebin['surface_density_compcorred'])\n",
    "    return nmorph, {'nmorph': nmorph, 'ntot': ntot, 'rhomin': rhomin, 'rhomax': rhomax, 'rhomean': rhomean}"
   ]
  },
  {
   "cell_type": "markdown",
   "metadata": {},
   "source": [
    "#### Subplot details"
   ]
  },
  {
   "cell_type": "code",
   "execution_count": null,
   "metadata": {},
   "outputs": [],
   "source": [
    "plotdeetz = [\n",
    "    {\n",
    "        'morph': [\"E\"], \n",
    "        'ylabel': r'$f_{\\rm E}$',\n",
    "        'oldcol': 'fE'\n",
    "    },\n",
    "    {\n",
    "        'morph': [\"S0\"], \n",
    "        'ylabel': r'$f_{\\rm S0}$',\n",
    "        'oldcol': 'fS0'\n",
    "    },\n",
    "    {\n",
    "        'morph': [\"E\", \"S0\"], \n",
    "        'ylabel': r'$f_{\\rm E+S0}$',\n",
    "        'oldcol': 'fearly'\n",
    "    },\n",
    "    {\n",
    "        'morph': [\"Irr\", \"Sa\", \"Sb\", \"Sc\", \"Sd\", \"Sm\"], \n",
    "        'ylabel': r'$f_{\\rm Sp+Irr}$',\n",
    "        'oldcol': 'flate'\n",
    "    }\n",
    "]"
   ]
  },
  {
   "cell_type": "markdown",
   "metadata": {},
   "source": [
    "#### Make the plot"
   ]
  },
  {
   "cell_type": "code",
   "execution_count": null,
   "metadata": {},
   "outputs": [],
   "source": [
    "ebarkwargs = {'ms':2, 'elinewidth':0.5, 'capthick':0.5, 'capsize':2}\n",
    "postmanargs = {'facecolors': '#FF8080', 'edgecolors': '#FF0000', 'alpha': 0.3, 'hatch': 'x'}\n",
    "dresslerargs = {'facecolors': '#D1E3FF', 'edgecolors': '#5282CC', 'alpha': 0.3}\n",
    "\n",
    "fig, axs = plt.subplots(nrows=2, ncols=2, figsize=(6,4), dpi=250)\n",
    "axs = axs.flatten()\n",
    "xlabel = r'$\\rho_{\\rm proj}$'\n",
    "\n",
    "for ax, opts in zip(axs, plotdeetz):\n",
    "    # Compute the fraction in infall region\n",
    "    nmorphs_infall = np.zeros(n_bins_infall)\n",
    "    for morph in opts['morph']:\n",
    "        nmorph_single, res_infall = compute_binned_fractions(infall, morph)\n",
    "        nmorphs_infall+=nmorph_single\n",
    "\n",
    "    # Compute the fraction in cores\n",
    "    nmorphs_core = np.zeros(n_bins_core)\n",
    "    for morph in opts['morph']:\n",
    "        nmorph_single, res_core = compute_binned_fractions(cores, morph)\n",
    "        nmorphs_core+=nmorph_single        \n",
    "    \n",
    "    # Plot the infall clusters by morphology\n",
    "    ax.errorbar(res_infall['rhomean'], nmorphs_infall/res_infall['ntot'], \n",
    "                xerr=[res_infall['rhomean'] - res_infall['rhomin'], res_infall['rhomax'] - res_infall['rhomean']],\n",
    "                yerr=calc_1sigma_poisson_bounds(nmorphs_infall, res_infall['ntot']),\n",
    "                fmt='ok', **ebarkwargs,)\n",
    "    \n",
    "    # Plot the cluster centers data\n",
    "    ax.errorbar(res_core['rhomean'], nmorphs_core/res_core['ntot'], \n",
    "                xerr=[res_core['rhomean'] - res_core['rhomin'], res_core['rhomax'] - res_core['rhomean']],\n",
    "                yerr=calc_1sigma_poisson_bounds(nmorphs_core, res_core['ntot']),\n",
    "                fmt='^g', **ebarkwargs,)\n",
    "    \n",
    "    # Plot the postman results\n",
    "    for row in postman:\n",
    "        ax.broken_barh(xranges=[[row['rho']*10**(-0.15), row['rho']*(10**0.15 - 10**(-0.15))]],\n",
    "                       yrange=[row[opts['oldcol']+'_LL'], row[opts['oldcol']+'_extent']], **postmanargs)\n",
    "    \n",
    "    # Plot the Dressler results\n",
    "    for row in dressler:\n",
    "        ax.broken_barh(xranges=[[row['rho']*10**(-0.1), row['rho']*(10**0.1 - 10**(-0.1))]],\n",
    "                       yrange=[row[opts['oldcol']+'_LL'], row[opts['oldcol']+'_extent']], **dresslerargs)\n",
    "    \n",
    "    \n",
    "    # Format the axes\n",
    "    ax.set_xscale('log')\n",
    "    ax.set_xlim((1, 2000))\n",
    "    ax.set_ylim((-0.1, 1.1))\n",
    "    ax.set_yticks((0.0, .2, .4, .6, .8, 1.))\n",
    "    ax.set_ylabel(opts['ylabel'])\n",
    "    ax.tick_params(which='both', direction='in', top=True, right=True, left=True, bottom=True)\n",
    "\n",
    "# General axis formatting\n",
    "yticks = (0.0, .2, .4, .6, .8, 1.)\n",
    "\n",
    "axs[0].set_xticklabels(());\n",
    "\n",
    "axs[1].set_xticklabels(());\n",
    "axs[1].yaxis.tick_right()\n",
    "axs[1].yaxis.set_label_position('right')\n",
    "\n",
    "axs[2].set_xlabel(xlabel)\n",
    "\n",
    "axs[3].set_xlabel(xlabel)\n",
    "axs[3].yaxis.tick_right()\n",
    "axs[3].yaxis.set_label_position('right')\n",
    "\n",
    "fig.subplots_adjust(wspace=.001, hspace=.001)\n",
    "plt.savefig('plots/morphology-density-relation.pdf', bbox_inches='tight')"
   ]
  },
  {
   "cell_type": "code",
   "execution_count": null,
   "metadata": {},
   "outputs": [],
   "source": []
  },
  {
   "cell_type": "code",
   "execution_count": null,
   "metadata": {},
   "outputs": [],
   "source": []
  },
  {
   "cell_type": "code",
   "execution_count": null,
   "metadata": {},
   "outputs": [],
   "source": []
  },
  {
   "cell_type": "code",
   "execution_count": null,
   "metadata": {},
   "outputs": [],
   "source": []
  },
  {
   "cell_type": "code",
   "execution_count": null,
   "metadata": {},
   "outputs": [],
   "source": []
  }
 ],
 "metadata": {
  "kernelspec": {
   "display_name": "Python 3",
   "language": "python",
   "name": "python3"
  },
  "language_info": {
   "codemirror_mode": {
    "name": "ipython",
    "version": 3
   },
   "file_extension": ".py",
   "mimetype": "text/x-python",
   "name": "python",
   "nbconvert_exporter": "python",
   "pygments_lexer": "ipython3",
   "version": "3.7.3"
  }
 },
 "nbformat": 4,
 "nbformat_minor": 2
}
