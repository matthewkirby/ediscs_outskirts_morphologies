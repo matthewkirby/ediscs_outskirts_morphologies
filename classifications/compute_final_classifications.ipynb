{
 "cells": [
  {
   "cell_type": "code",
   "execution_count": 1,
   "metadata": {},
   "outputs": [],
   "source": [
    "import numpy as np\n",
    "from astropy.table import Table, join, Column\n",
    "from astropy.io import fits"
   ]
  },
  {
   "cell_type": "markdown",
   "metadata": {},
   "source": [
    "# Set up the table and load everyone's classifications"
   ]
  },
  {
   "cell_type": "code",
   "execution_count": 2,
   "metadata": {},
   "outputs": [],
   "source": [
    "def build_table(results):\n",
    "    results = [r.split() for r in results]\n",
    "    resultst = []\n",
    "    for row in results:\n",
    "        if len(row) == 2:\n",
    "            resultst.append({'name':row[0], 'morph':row[1], 'flags':''})\n",
    "        else:\n",
    "            resultst.append({'name':row[0], 'morph':row[1], 'flags':row[2]})\n",
    "            \n",
    "    results = Table(resultst)\n",
    "    results.rename_column('morph', 'morph_{}'.format(name))\n",
    "    results.rename_column('flags', 'flags_{}'.format(name))\n",
    "    \n",
    "    return results"
   ]
  },
  {
   "cell_type": "code",
   "execution_count": 16,
   "metadata": {},
   "outputs": [],
   "source": [
    "classifications = Table()\n",
    "classifiers = ['christine', 'pier', 'tom', 'vandana', 'matt']\n",
    "\n",
    "for name in classifiers:\n",
    "    with open('results_{}.dat'.format(name)) as fin:\n",
    "        results = fin.readlines()    \n",
    "    results = build_table(results)\n",
    "\n",
    "    if len(classifications) == 0:\n",
    "        classifications = results\n",
    "        continue\n",
    "    else:\n",
    "        classifications = join(classifications, results, keys='name', join_type='left')\n",
    "\n",
    "# Merge all of the flag columns and remove duplicates\n",
    "flagcol = []\n",
    "for row in classifications:\n",
    "    allflags = [row['flags_'+cler] for cler in classifiers]\n",
    "    flagcol.append('|'.join(set('|'.join(filter(None, allflags)).split('|'))))\n",
    "classifications.add_column(Column(flagcol), name='flags')\n",
    "classifications = classifications['name', 'morph_matt', 'morph_pier', 'morph_tom', \n",
    "                                  'morph_christine', 'morph_vandana', 'flags']\n",
    "\n",
    "# Add RA and DEC to the table for matching purposes\n",
    "classifications['RA'] = np.zeros(len(classifications))\n",
    "classifications['DEC'] = np.zeros(len(classifications))\n",
    "\n",
    "for row in classifications:\n",
    "    #hdr = fits.open('/Users/matthewkirby/mymorphologies/classification_code/cutouts/{}'.format(row['name']))[0].header\n",
    "    hdr = fits.open('/Users/matthewkirby/research/ediscs-galaxy-evolution/morph-analysis/classifications/kirby-classifications/classification_code/cutouts/{}'.format(row['name']))[0].header\n",
    "    row['RA'] = hdr['RA']\n",
    "    row['DEC'] = hdr['DEC']"
   ]
  },
  {
   "cell_type": "code",
   "execution_count": 17,
   "metadata": {},
   "outputs": [
    {
     "data": {
      "text/html": [
       "<i>Table length=278</i>\n",
       "<table id=\"table4681996272\" class=\"table-striped table-bordered table-condensed\">\n",
       "<thead><tr><th>name</th><th>morph_matt</th><th>morph_pier</th><th>morph_tom</th><th>morph_christine</th><th>morph_vandana</th><th>flags</th><th>RA</th><th>DEC</th></tr></thead>\n",
       "<thead><tr><th>str14</th><th>str17</th><th>str17</th><th>str14</th><th>str18</th><th>str20</th><th>str14</th><th>float64</th><th>float64</th></tr></thead>\n",
       "<tr><td>cutout0.fits</td><td>Sc</td><td>Sa</td><td>Sb</td><td>Sc</td><td>Sb</td><td></td><td>154.6747894287109</td><td>-12.29895973205566</td></tr>\n",
       "<tr><td>cutout1.fits</td><td>Sb</td><td>E</td><td>S0</td><td>Sc</td><td>Sa</td><td></td><td>154.6747894287109</td><td>-12.29895973205566</td></tr>\n",
       "<tr><td>cutout10.fits</td><td>Sa</td><td>E</td><td>E</td><td>E</td><td>Sa</td><td></td><td>163.7105560302734</td><td>-12.95232963562012</td></tr>\n",
       "<tr><td>cutout100.fits</td><td>Sa</td><td>E</td><td>Sa</td><td>E</td><td>E</td><td></td><td>164.8133850097656</td><td>-12.93187046051025</td></tr>\n",
       "<tr><td>cutout101.fits</td><td>Sm</td><td>E</td><td>E</td><td>Irr</td><td>Compact,-not-star</td><td>DISTURBED</td><td>164.8156127929688</td><td>-12.9419002532959</td></tr>\n",
       "<tr><td>cutout102.fits</td><td>S0</td><td>E</td><td>S0</td><td>E</td><td>E</td><td></td><td>164.8226928710938</td><td>-12.95907020568848</td></tr>\n",
       "<tr><td>cutout103.fits</td><td>Sb</td><td>Sa</td><td>Sb</td><td>Sa</td><td>Sb</td><td></td><td>164.8291625976562</td><td>-12.94416046142578</td></tr>\n",
       "<tr><td>cutout104.fits</td><td>S0</td><td>E</td><td>S0</td><td>E</td><td>E</td><td></td><td>164.7759857177734</td><td>-12.93634033203125</td></tr>\n",
       "<tr><td>cutout105.fits</td><td>E</td><td>E</td><td>E</td><td>E</td><td>E</td><td></td><td>164.7771759033203</td><td>-12.95925998687744</td></tr>\n",
       "<tr><td>cutout106.fits</td><td>S0</td><td>E</td><td>E</td><td>E</td><td>Sa</td><td></td><td>164.7798156738281</td><td>-12.93278980255127</td></tr>\n",
       "<tr><td>...</td><td>...</td><td>...</td><td>...</td><td>...</td><td>...</td><td>...</td><td>...</td><td>...</td></tr>\n",
       "<tr><td>cutout90.fits</td><td>Sa</td><td>Sa</td><td>Irr</td><td>Sa</td><td>Sc</td><td></td><td>164.7905120849609</td><td>-12.94766044616699</td></tr>\n",
       "<tr><td>cutout91.fits</td><td>Unclassifiable</td><td>Unclassifiable</td><td>Unclassifiable</td><td>Unclassifiable</td><td>Unclassifiable</td><td>EDGEON|DEFECT</td><td>164.7923431396484</td><td>-12.97729015350342</td></tr>\n",
       "<tr><td>cutout92.fits</td><td>Sc</td><td>Sa</td><td>Sb</td><td>Sb</td><td>Sa</td><td>DEFECT</td><td>164.7927856445312</td><td>-12.91823959350586</td></tr>\n",
       "<tr><td>cutout93.fits</td><td>Sc</td><td>E</td><td>S0</td><td>Sa|S0</td><td>Sa</td><td></td><td>164.8007965087891</td><td>-12.93332958221436</td></tr>\n",
       "<tr><td>cutout94.fits</td><td>Sm</td><td>Irr</td><td>Irr</td><td>Irr</td><td>Sm</td><td>DISTURBED</td><td>164.8026275634766</td><td>-12.95384979248047</td></tr>\n",
       "<tr><td>cutout95.fits</td><td>S0</td><td>Sa</td><td>S0</td><td>Sb</td><td>Sa</td><td></td><td>164.803466796875</td><td>-12.9534797668457</td></tr>\n",
       "<tr><td>cutout96.fits</td><td>E</td><td>E</td><td>E</td><td>E</td><td>E</td><td></td><td>164.8040924072266</td><td>-12.94616985321045</td></tr>\n",
       "<tr><td>cutout97.fits</td><td>E</td><td>E</td><td>E</td><td>E</td><td>E</td><td></td><td>164.8041534423828</td><td>-12.94915962219238</td></tr>\n",
       "<tr><td>cutout98.fits</td><td>S0</td><td>E</td><td>E</td><td>Sa|S0</td><td>S0|Sa</td><td>EDGEON</td><td>164.8082275390625</td><td>-12.93912029266357</td></tr>\n",
       "<tr><td>cutout99.fits</td><td>Sd</td><td>Sa</td><td>Sb</td><td>Irr</td><td>Irr</td><td></td><td>164.8088073730469</td><td>-12.98001003265381</td></tr>\n",
       "</table>"
      ],
      "text/plain": [
       "<Table length=278>\n",
       "     name        morph_matt   ...         RA               DEC        \n",
       "    str14          str17      ...      float64           float64      \n",
       "-------------- -------------- ... ----------------- ------------------\n",
       "  cutout0.fits             Sc ... 154.6747894287109 -12.29895973205566\n",
       "  cutout1.fits             Sb ... 154.6747894287109 -12.29895973205566\n",
       " cutout10.fits             Sa ... 163.7105560302734 -12.95232963562012\n",
       "cutout100.fits             Sa ... 164.8133850097656 -12.93187046051025\n",
       "cutout101.fits             Sm ... 164.8156127929688  -12.9419002532959\n",
       "cutout102.fits             S0 ... 164.8226928710938 -12.95907020568848\n",
       "cutout103.fits             Sb ... 164.8291625976562 -12.94416046142578\n",
       "cutout104.fits             S0 ... 164.7759857177734 -12.93634033203125\n",
       "cutout105.fits              E ... 164.7771759033203 -12.95925998687744\n",
       "cutout106.fits             S0 ... 164.7798156738281 -12.93278980255127\n",
       "           ...            ... ...               ...                ...\n",
       " cutout90.fits             Sa ... 164.7905120849609 -12.94766044616699\n",
       " cutout91.fits Unclassifiable ... 164.7923431396484 -12.97729015350342\n",
       " cutout92.fits             Sc ... 164.7927856445312 -12.91823959350586\n",
       " cutout93.fits             Sc ... 164.8007965087891 -12.93332958221436\n",
       " cutout94.fits             Sm ... 164.8026275634766 -12.95384979248047\n",
       " cutout95.fits             S0 ...  164.803466796875  -12.9534797668457\n",
       " cutout96.fits              E ... 164.8040924072266 -12.94616985321045\n",
       " cutout97.fits              E ... 164.8041534423828 -12.94915962219238\n",
       " cutout98.fits             S0 ... 164.8082275390625 -12.93912029266357\n",
       " cutout99.fits             Sd ... 164.8088073730469 -12.98001003265381"
      ]
     },
     "execution_count": 17,
     "metadata": {},
     "output_type": "execute_result"
    }
   ],
   "source": [
    "classifications"
   ]
  },
  {
   "cell_type": "markdown",
   "metadata": {},
   "source": [
    "# Combine the two filters\n",
    "1. Make a copy of the table and rename everything to A and B\n",
    "2. Loop over original table\n",
    "\n",
    "    A. Loop over the secondary table\n",
    "    \n",
    "        I. Delete the identical row  in secondary\n",
    "        II. Copy the morphs from the second filter in secondary\n",
    "        III. Delete second filter row from primary"
   ]
  },
  {
   "cell_type": "code",
   "execution_count": 18,
   "metadata": {},
   "outputs": [],
   "source": [
    "secondary = Table(classifications, copy=True)\n",
    "for cl in classifiers:\n",
    "    classifications.rename_column('morph_'+cl, 'morph_'+cl+'_A')\n",
    "    classifications['morph_'+cl+'_B'] = 'no_classssssssssssssssssss'\n",
    "    classifications['matching_cutout'] = 'cutoutXXXXXXXXXX.fits'"
   ]
  },
  {
   "cell_type": "code",
   "execution_count": 19,
   "metadata": {
    "scrolled": false
   },
   "outputs": [],
   "source": [
    "# Match between the two filters\n",
    "for ogrow in classifications:\n",
    "    for row in secondary:\n",
    "        if abs(row['RA']-ogrow['RA']) < 0.0002 and abs(row['DEC']-ogrow['DEC']) < 0.0002:\n",
    "            if not row['name'] == ogrow['name']:\n",
    "                ogrow['matching_cutout'] = row['name']\n",
    "                for cl in classifiers:\n",
    "                    ogrow['morph_'+cl+'_B'] = row['morph_'+cl]\n",
    "                break"
   ]
  },
  {
   "cell_type": "code",
   "execution_count": 20,
   "metadata": {},
   "outputs": [],
   "source": [
    "# Delete duplicate rows\n",
    "for i in range(int(len(classifications)/2)):\n",
    "    rowidx = np.where(classifications['name'] == classifications[i]['matching_cutout'])[0][0]\n",
    "    classifications.remove_row(rowidx)"
   ]
  },
  {
   "cell_type": "markdown",
   "metadata": {},
   "source": [
    "# Set the final classifications"
   ]
  },
  {
   "cell_type": "code",
   "execution_count": 21,
   "metadata": {},
   "outputs": [],
   "source": [
    "# Step 1: In a single morph response, establish weight based on the amount of | in the response\n",
    "# Step 2: Add the weight to the appropriate bin in the dictionary \n",
    "# Step 3: Return the highest weighted response\n",
    "def find_morph(morphs):\n",
    "    cl = {'E':0.0, 'S0':0.0, 'Sa':0.0, 'Sb':0.0, 'Sc':0.0, 'Sd':0.0, 'Sm':0.0, 'Irr':0.0, 'U':0.0, 'C':0.0}\n",
    "    for m in morphs:\n",
    "        w = 1./(1+m.count('|'))\n",
    "        m = m.split('|')\n",
    "        for submorph in m:\n",
    "            cl = apply_weight(submorph, w, cl)\n",
    "    \n",
    "    # Select the most popular classification. In a tie, randomly choose\n",
    "    vmax = max(cl.values())\n",
    "    final_options = [k for k in cl.keys() if abs(cl[k]-vmax) <= 0.01]\n",
    "    return np.random.choice(final_options)\n",
    "    \n",
    "def apply_weight(m, w, cl):\n",
    "    if m == 'Unclassifiable':\n",
    "        cl['U'] += w\n",
    "    elif m == 'Compact,-not-star':\n",
    "        cl['C'] += w\n",
    "    else:\n",
    "        cl[m] += w\n",
    "    return cl\n",
    "            "
   ]
  },
  {
   "cell_type": "code",
   "execution_count": 22,
   "metadata": {
    "scrolled": true
   },
   "outputs": [],
   "source": [
    "good_class = ['christine', 'vandana', 'matt']\n",
    "final_morphs = []\n",
    "for row in classifications:\n",
    "    morphs = [row['morph_'+cl+'_A'] for cl in good_class] + [row['morph_'+cl+'_B'] for cl in good_class]\n",
    "    final_morphs.append(find_morph(morphs))\n",
    "classifications.add_column(Column(final_morphs), name='final')"
   ]
  },
  {
   "cell_type": "markdown",
   "metadata": {},
   "source": [
    "# Evaluate how much each person agrees with the final morphology"
   ]
  },
  {
   "cell_type": "code",
   "execution_count": 23,
   "metadata": {},
   "outputs": [
    {
     "name": "stdout",
     "output_type": "stream",
     "text": [
      "christine got 103.0 out of 126.0 true. 0.8174603174603174 percent\n",
      "pier got 70.0 out of 126.0 true. 0.5555555555555556 percent\n",
      "tom got 68.0 out of 126.0 true. 0.5396825396825397 percent\n",
      "vandana got 101.0 out of 126.0 true. 0.8015873015873016 percent\n",
      "matt got 92.0 out of 126.0 true. 0.7301587301587301 percent\n"
     ]
    }
   ],
   "source": [
    "for cl in classifiers:\n",
    "    f = 0.0\n",
    "    N = 0.0\n",
    "    for row in classifications:\n",
    "        if row['final'] in ['U', 'C']:\n",
    "            continue\n",
    "        N += 1.0\n",
    "        if row['final'] in row['morph_'+cl+'_A'].split('|'):\n",
    "            f+=1.0\n",
    "            continue\n",
    "        if row['final'] in row['morph_'+cl+'_B'].split('|'):\n",
    "            f+=1.0\n",
    "            continue        \n",
    "    \n",
    "    print('{} got {} out of {} true. {} percent'. format(cl, f, N, f/N))"
   ]
  },
  {
   "cell_type": "code",
   "execution_count": 24,
   "metadata": {},
   "outputs": [],
   "source": [
    "def count_class(cllist, morph):\n",
    "    tot=0\n",
    "    for m in morph:\n",
    "        tot+=len(np.where(cllist['final'] == m)[0])\n",
    "    return tot"
   ]
  },
  {
   "cell_type": "code",
   "execution_count": 25,
   "metadata": {},
   "outputs": [],
   "source": [
    "n_e = count_class(classifications, ['E'])\n",
    "n_s0 = count_class(classifications, ['S0'])\n",
    "n_sp = count_class(classifications, ['Sa', 'Sb', 'Sc', 'Sd', 'Sm'])\n",
    "n_irr = count_class(classifications, ['Irr'])"
   ]
  },
  {
   "cell_type": "code",
   "execution_count": 26,
   "metadata": {},
   "outputs": [
    {
     "name": "stdout",
     "output_type": "stream",
     "text": [
      "35 ellipticals\n",
      "13 s0\n",
      "56 spirals\n",
      "22 irregulars\n",
      "13 others\n"
     ]
    }
   ],
   "source": [
    "print('{} ellipticals'.format(n_e))\n",
    "print('{} s0'.format(n_s0))\n",
    "print('{} spirals'.format(n_sp))\n",
    "print('{} irregulars'.format(n_irr))\n",
    "print('{} others'.format(len(classifications)-n_e-n_s0-n_sp-n_irr))"
   ]
  },
  {
   "cell_type": "code",
   "execution_count": 27,
   "metadata": {},
   "outputs": [],
   "source": [
    "output_catalog = classifications['name', 'RA', 'DEC', 'final', 'flags']\n",
    "output_catalog.write('final_morphologies.csv', format='csv', overwrite=True)"
   ]
  },
  {
   "cell_type": "code",
   "execution_count": null,
   "metadata": {},
   "outputs": [],
   "source": []
  }
 ],
 "metadata": {
  "kernelspec": {
   "display_name": "Python 3",
   "language": "python",
   "name": "python3"
  },
  "language_info": {
   "codemirror_mode": {
    "name": "ipython",
    "version": 3
   },
   "file_extension": ".py",
   "mimetype": "text/x-python",
   "name": "python",
   "nbconvert_exporter": "python",
   "pygments_lexer": "ipython3",
   "version": "3.6.8"
  }
 },
 "nbformat": 4,
 "nbformat_minor": 2
}
