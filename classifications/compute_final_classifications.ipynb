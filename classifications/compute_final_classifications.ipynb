{
 "cells": [
  {
   "cell_type": "code",
   "execution_count": 1,
   "metadata": {},
   "outputs": [],
   "source": [
    "import numpy as np\n",
    "from astropy.table import Table, join, Column\n",
    "from astropy.io import fits"
   ]
  },
  {
   "cell_type": "markdown",
   "metadata": {},
   "source": [
    "# Set up the table and load everyone's classifications"
   ]
  },
  {
   "cell_type": "code",
   "execution_count": 2,
   "metadata": {},
   "outputs": [],
   "source": [
    "def build_table(results):\n",
    "    results = [r.split() for r in results]\n",
    "    resultst = []\n",
    "    for row in results:\n",
    "        if len(row) == 2:\n",
    "            resultst.append({'name':row[0], 'morph':row[1], 'flags':''})\n",
    "        else:\n",
    "            resultst.append({'name':row[0], 'morph':row[1], 'flags':row[2]})\n",
    "            \n",
    "    results = Table(resultst)\n",
    "    results.rename_column('morph', 'morph_{}'.format(name))\n",
    "    results.rename_column('flags', 'flags_{}'.format(name))\n",
    "    \n",
    "    return results"
   ]
  },
  {
   "cell_type": "code",
   "execution_count": 3,
   "metadata": {},
   "outputs": [],
   "source": [
    "classifications = Table()\n",
    "classifiers = ['christine', 'pier', 'tom', 'vandana', 'matt']\n",
    "\n",
    "for name in classifiers:\n",
    "    with open('results_{}.dat'.format(name)) as fin:\n",
    "        results = fin.readlines()    \n",
    "    results = build_table(results)\n",
    "\n",
    "    if len(classifications) == 0:\n",
    "        classifications = results\n",
    "        continue\n",
    "    else:\n",
    "        classifications = join(classifications, results, keys='name', join_type='left')\n",
    "\n",
    "# Merge all of the flag columns and remove duplicates\n",
    "flagcol = []\n",
    "for row in classifications:\n",
    "    allflags = [row['flags_'+cler] for cler in classifiers]\n",
    "    flagcol.append('|'.join(set('|'.join(filter(None, allflags)).split('|'))))\n",
    "classifications.add_column(Column(flagcol), name='flags')\n",
    "classifications = classifications['name', 'morph_matt', 'morph_pier', 'morph_tom', \n",
    "                                  'morph_christine', 'morph_vandana', 'flags']\n",
    "\n",
    "# Add RA and DEC to the table for matching purposes\n",
    "classifications['RA'] = np.zeros(len(classifications))\n",
    "classifications['DEC'] = np.zeros(len(classifications))\n",
    "\n",
    "for row in classifications:\n",
    "    hdr = fits.open('/Users/matthewkirby/mymorphologies/classification_code/cutouts/{}'.format(row['name']))[0].header\n",
    "    row['RA'] = hdr['RA']\n",
    "    row['DEC'] = hdr['DEC']"
   ]
  },
  {
   "cell_type": "markdown",
   "metadata": {},
   "source": [
    "# Combine the two filters\n",
    "1. Make a copy of the table and rename everything to A and B\n",
    "2. Loop over original table\n",
    "\n",
    "    A. Loop over the secondary table\n",
    "    \n",
    "        I. Delete the identical row  in secondary\n",
    "        II. Copy the morphs from the second filter in secondary\n",
    "        III. Delete second filter row from primary"
   ]
  },
  {
   "cell_type": "code",
   "execution_count": 4,
   "metadata": {},
   "outputs": [],
   "source": [
    "secondary = Table(classifications, copy=True)\n",
    "for cl in classifiers:\n",
    "    classifications.rename_column('morph_'+cl, 'morph_'+cl+'_A')\n",
    "    classifications['morph_'+cl+'_B'] = 'no_classssssssssssssssssss'\n",
    "    classifications['matching_cutout'] = 'cutoutXXXXXXXXXX.fits'"
   ]
  },
  {
   "cell_type": "code",
   "execution_count": 5,
   "metadata": {
    "scrolled": false
   },
   "outputs": [],
   "source": [
    "# Match between the two filters\n",
    "for ogrow in classifications:\n",
    "    for row in secondary:\n",
    "        if abs(row['RA']-ogrow['RA']) < 0.0002 and abs(row['DEC']-ogrow['DEC']) < 0.0002:\n",
    "            if not row['name'] == ogrow['name']:\n",
    "                ogrow['matching_cutout'] = row['name']\n",
    "                for cl in classifiers:\n",
    "                    ogrow['morph_'+cl+'_B'] = row['morph_'+cl]\n",
    "                break"
   ]
  },
  {
   "cell_type": "code",
   "execution_count": 6,
   "metadata": {},
   "outputs": [],
   "source": [
    "# Delete duplicate rows\n",
    "for i in range(int(len(classifications)/2)):\n",
    "    rowidx = np.where(classifications['name'] == classifications[i]['matching_cutout'])[0][0]\n",
    "    classifications.remove_row(rowidx)"
   ]
  },
  {
   "cell_type": "markdown",
   "metadata": {},
   "source": [
    "# Set the final classifications"
   ]
  },
  {
   "cell_type": "code",
   "execution_count": 7,
   "metadata": {},
   "outputs": [],
   "source": [
    "# Step 1: In a single morph response, establish weight based on the amount of | in the response\n",
    "# Step 2: Add the weight to the appropriate bin in the dictionary \n",
    "# Step 3: Return the highest weighted response\n",
    "def find_morph(morphs):\n",
    "    cl = {'E':0.0, 'S0':0.0, 'Sa':0.0, 'Sb':0.0, 'Sc':0.0, 'Sd':0.0, 'Sm':0.0, 'Irr':0.0, 'U':0.0, 'C':0.0}\n",
    "    for m in morphs:\n",
    "        w = 1./(1+m.count('|'))\n",
    "        m = m.split('|')\n",
    "        for submorph in m:\n",
    "            cl = apply_weight(submorph, w, cl)\n",
    "    \n",
    "    # Select the most popular classification. In a tie, randomly choose\n",
    "    vmax = max(cl.values())\n",
    "    final_options = [k for k in cl.keys() if abs(cl[k]-vmax) <= 0.01]\n",
    "    return np.random.choice(final_options)\n",
    "    \n",
    "def apply_weight(m, w, cl):\n",
    "    if m == 'Unclassifiable':\n",
    "        cl['U'] += w\n",
    "    elif m == 'Compact,-not-star':\n",
    "        cl['C'] += w\n",
    "    else:\n",
    "        cl[m] += w\n",
    "    return cl\n",
    "            "
   ]
  },
  {
   "cell_type": "code",
   "execution_count": 8,
   "metadata": {
    "scrolled": true
   },
   "outputs": [],
   "source": [
    "good_class = ['christine', 'vandana', 'matt']\n",
    "final_morphs = []\n",
    "for row in classifications:\n",
    "    morphs = [row['morph_'+cl+'_A'] for cl in good_class] + [row['morph_'+cl+'_B'] for cl in good_class]\n",
    "    final_morphs.append(find_morph(morphs))\n",
    "classifications.add_column(Column(final_morphs), name='final')"
   ]
  },
  {
   "cell_type": "markdown",
   "metadata": {},
   "source": [
    "# Evaluate how much each person agrees with the final morphology"
   ]
  },
  {
   "cell_type": "code",
   "execution_count": 9,
   "metadata": {},
   "outputs": [
    {
     "name": "stdout",
     "output_type": "stream",
     "text": [
      "christine got 104.0 out of 127.0 true. 0.8188976377952756 percent\n",
      "pier got 74.0 out of 127.0 true. 0.5826771653543307 percent\n",
      "tom got 67.0 out of 127.0 true. 0.5275590551181102 percent\n",
      "vandana got 101.0 out of 127.0 true. 0.7952755905511811 percent\n",
      "matt got 92.0 out of 127.0 true. 0.7244094488188977 percent\n"
     ]
    }
   ],
   "source": [
    "for cl in classifiers:\n",
    "    f = 0.0\n",
    "    N = 0.0\n",
    "    for row in classifications:\n",
    "        if row['final'] in ['U', 'C']:\n",
    "            continue\n",
    "        N += 1.0\n",
    "        if row['final'] in row['morph_'+cl+'_A'].split('|'):\n",
    "            f+=1.0\n",
    "            continue\n",
    "        if row['final'] in row['morph_'+cl+'_B'].split('|'):\n",
    "            f+=1.0\n",
    "            continue        \n",
    "    \n",
    "    print('{} got {} out of {} true. {} percent'. format(cl, f, N, f/N))"
   ]
  },
  {
   "cell_type": "code",
   "execution_count": 10,
   "metadata": {},
   "outputs": [],
   "source": [
    "def count_class(cllist, morph):\n",
    "    tot=0\n",
    "    for m in morph:\n",
    "        tot+=len(np.where(cllist['final'] == m)[0])\n",
    "    return tot"
   ]
  },
  {
   "cell_type": "code",
   "execution_count": 11,
   "metadata": {},
   "outputs": [],
   "source": [
    "n_e = count_class(classifications, ['E'])\n",
    "n_s0 = count_class(classifications, ['S0'])\n",
    "n_sp = count_class(classifications, ['Sa', 'Sb', 'Sc', 'Sd', 'Sm'])\n",
    "n_irr = count_class(classifications, ['Irr'])"
   ]
  },
  {
   "cell_type": "code",
   "execution_count": 12,
   "metadata": {},
   "outputs": [
    {
     "name": "stdout",
     "output_type": "stream",
     "text": [
      "37 ellipticals\n",
      "14 s0\n",
      "55 spirals\n",
      "21 irregulars\n",
      "12 others\n"
     ]
    }
   ],
   "source": [
    "print('{} ellipticals'.format(n_e))\n",
    "print('{} s0'.format(n_s0))\n",
    "print('{} spirals'.format(n_sp))\n",
    "print('{} irregulars'.format(n_irr))\n",
    "print('{} others'.format(len(classifications)-n_e-n_s0-n_sp-n_irr))"
   ]
  },
  {
   "cell_type": "code",
   "execution_count": 13,
   "metadata": {},
   "outputs": [],
   "source": [
    "output_catalog = classifications['name', 'RA', 'DEC', 'final', 'flags']\n",
    "output_catalog.write('final_morphologies.csv', format='csv', overwrite=True)"
   ]
  },
  {
   "cell_type": "code",
   "execution_count": null,
   "metadata": {},
   "outputs": [],
   "source": []
  }
 ],
 "metadata": {
  "kernelspec": {
   "display_name": "Python 3",
   "language": "python",
   "name": "python3"
  },
  "language_info": {
   "codemirror_mode": {
    "name": "ipython",
    "version": 3
   },
   "file_extension": ".py",
   "mimetype": "text/x-python",
   "name": "python",
   "nbconvert_exporter": "python",
   "pygments_lexer": "ipython3",
   "version": "3.6.4"
  }
 },
 "nbformat": 4,
 "nbformat_minor": 2
}
